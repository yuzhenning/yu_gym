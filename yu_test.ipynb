{
 "cells": [
  {
   "cell_type": "markdown",
   "id": "e0cdccd0-db4e-4c38-b5f8-61bb0cf9ef6c",
   "metadata": {},
   "source": [
    "### 1. 确保 ma-gym 安装正确"
   ]
  },
  {
   "cell_type": "code",
   "execution_count": 1,
   "id": "13f0e8e7-cc41-4fd3-ac8b-42f66b66ea77",
   "metadata": {},
   "outputs": [
    {
     "name": "stderr",
     "output_type": "stream",
     "text": [
      "/home/yubuntust/miniconda3/lib/python3.12/site-packages/gym/envs/registration.py:421: UserWarning: \u001b[33mWARN: The `registry.all` method is deprecated. Please use `registry.values` instead.\u001b[0m\n",
      "  logger.warn(\n",
      "/home/yubuntust/miniconda3/lib/python3.12/site-packages/executing/executing.py:713: DeprecationWarning: ast.Str is deprecated and will be removed in Python 3.14; use ast.Constant instead\n",
      "  right=ast.Str(s=sentinel),\n",
      "/home/yubuntust/miniconda3/lib/python3.12/ast.py:587: DeprecationWarning: Attribute s is deprecated and will be removed in Python 3.14; use value instead\n",
      "  return Constant(*args, **kwargs)\n"
     ]
    },
    {
     "ename": "AttributeError",
     "evalue": "'EnvSpec' object has no attribute '_kwargs'",
     "output_type": "error",
     "traceback": [
      "\u001b[0;31m---------------------------------------------------------------------------\u001b[0m",
      "\u001b[0;31mAttributeError\u001b[0m                            Traceback (most recent call last)",
      "Cell \u001b[0;32mIn[1], line 3\u001b[0m\n\u001b[1;32m      1\u001b[0m \u001b[38;5;66;03m### Step 1 列出可用环境并验证环境是否存在\u001b[39;00m\n\u001b[1;32m      2\u001b[0m \u001b[38;5;28;01mimport\u001b[39;00m \u001b[38;5;21;01mgym\u001b[39;00m\n\u001b[0;32m----> 3\u001b[0m \u001b[38;5;28;01mimport\u001b[39;00m \u001b[38;5;21;01mma_gym\u001b[39;00m\n\u001b[1;32m      4\u001b[0m \u001b[38;5;66;03m# print(gym.envs.registry.all())\u001b[39;00m\n\u001b[1;32m      6\u001b[0m \u001b[38;5;28;01mfrom\u001b[39;00m \u001b[38;5;21;01manytree\u001b[39;00m \u001b[38;5;28;01mimport\u001b[39;00m Node, RenderTree\n",
      "File \u001b[0;32m~/DLearning_git/yu_gym/ma_gym/__init__.py:15\u001b[0m\n\u001b[1;32m     10\u001b[0m env_specs \u001b[38;5;241m=\u001b[39m [env_spec \u001b[38;5;28;01mfor\u001b[39;00m env_spec \u001b[38;5;129;01min\u001b[39;00m envs\u001b[38;5;241m.\u001b[39mregistry\u001b[38;5;241m.\u001b[39mall() \u001b[38;5;28;01mif\u001b[39;00m \u001b[38;5;124m'\u001b[39m\u001b[38;5;124mgym.envs\u001b[39m\u001b[38;5;124m'\u001b[39m \u001b[38;5;129;01min\u001b[39;00m env_spec\u001b[38;5;241m.\u001b[39mentry_point]\n\u001b[1;32m     11\u001b[0m \u001b[38;5;28;01mfor\u001b[39;00m spec \u001b[38;5;129;01min\u001b[39;00m env_specs:\n\u001b[1;32m     12\u001b[0m     register(\n\u001b[1;32m     13\u001b[0m         \u001b[38;5;28mid\u001b[39m\u001b[38;5;241m=\u001b[39m\u001b[38;5;124m'\u001b[39m\u001b[38;5;124mma_\u001b[39m\u001b[38;5;124m'\u001b[39m \u001b[38;5;241m+\u001b[39m spec\u001b[38;5;241m.\u001b[39mid,\n\u001b[1;32m     14\u001b[0m         entry_point\u001b[38;5;241m=\u001b[39m\u001b[38;5;124m'\u001b[39m\u001b[38;5;124mma_gym.envs.openai:MultiAgentWrapper\u001b[39m\u001b[38;5;124m'\u001b[39m,\n\u001b[0;32m---> 15\u001b[0m         kwargs\u001b[38;5;241m=\u001b[39m{\u001b[38;5;124m'\u001b[39m\u001b[38;5;124mname\u001b[39m\u001b[38;5;124m'\u001b[39m: spec\u001b[38;5;241m.\u001b[39mid, \u001b[38;5;241m*\u001b[39m\u001b[38;5;241m*\u001b[39mspec\u001b[38;5;241m.\u001b[39m_kwargs}\n\u001b[1;32m     16\u001b[0m     )\n\u001b[1;32m     18\u001b[0m \u001b[38;5;66;03m# add new environments : iterate over full observability\u001b[39;00m\n\u001b[1;32m     19\u001b[0m \u001b[38;5;28;01mfor\u001b[39;00m i, observability \u001b[38;5;129;01min\u001b[39;00m \u001b[38;5;28menumerate\u001b[39m([\u001b[38;5;28;01mFalse\u001b[39;00m, \u001b[38;5;28;01mTrue\u001b[39;00m]):\n",
      "\u001b[0;31mAttributeError\u001b[0m: 'EnvSpec' object has no attribute '_kwargs'"
     ]
    }
   ],
   "source": [
    "### Step 1 列出可用环境并验证环境是否存在\n",
    "import gym\n",
    "import ma_gym\n",
    "# print(gym.envs.registry.all())\n",
    "\n",
    "from anytree import Node, RenderTree\n",
    "\n",
    "# 获取所有已注册的环境\n",
    "envs = gym.envs.registry.all()\n",
    "\n",
    "# 根节点\n",
    "root = Node(\"Gym Environments\")\n",
    "\n",
    "# 创建字典以根据类别或前缀对环境进行分组\n",
    "env_dict = {}\n",
    "\n",
    "# # 根据环境的名称进行树状展示\n",
    "# for env in envs:\n",
    "#     # 创建一个环境节点\n",
    "#     env_node = Node(env.id, parent=root)\n",
    "# ========================================\n",
    "# 根据环境 ID 的前缀或其他规则对环境进行分组\n",
    "for env in envs:\n",
    "    # 假设环境 ID 是由多个部分组成，使用 '-' 分隔\n",
    "    env_parts = env.id.split('-')\n",
    "\n",
    "    # 如果没有分隔符，只有一个部分，作为顶层环境\n",
    "    if len(env_parts) == 1:\n",
    "        category = env_parts[0]\n",
    "        if category not in env_dict:\n",
    "            env_dict[category] = Node(category, parent=root)\n",
    "        env_node = Node(env.id, parent=env_dict[category])\n",
    "    else:\n",
    "        # 使用第一个部分作为大类\n",
    "        category = env_parts[0]\n",
    "        if category not in env_dict:\n",
    "            env_dict[category] = Node(category, parent=root)\n",
    "\n",
    "        # 使用第二部分（如果存在）作为子类\n",
    "        subcategory = env_parts[1]\n",
    "        subcategory_node = Node(subcategory, parent=env_dict[category])\n",
    "\n",
    "        # 将环境添加到子类别节点\n",
    "        env_node = Node(env.id, parent=subcategory_node)\n",
    "# ========================================\n",
    "\n",
    "# 打印树形结构\n",
    "for pre, fill, node in RenderTree(root):\n",
    "    print(f\"{pre}{node.name}\")\n"
   ]
  },
  {
   "cell_type": "markdown",
   "id": "54e6fecf-b436-421e-bfa8-3efbcf090614",
   "metadata": {},
   "source": [
    "# yu test mail file"
   ]
  },
  {
   "cell_type": "markdown",
   "id": "6a65a1aa-5e8d-45ef-9307-5e4c12f6ddd8",
   "metadata": {},
   "source": [
    "## Task 1: indirect test"
   ]
  },
  {
   "cell_type": "code",
   "execution_count": null,
   "id": "0a99dcda-60e3-4da2-bae5-a980c4c54add",
   "metadata": {
    "scrolled": true
   },
   "outputs": [],
   "source": [
    "# run py_test.py"
   ]
  },
  {
   "cell_type": "markdown",
   "id": "57404523-ccde-4aaf-8f97-2c24feb51fd5",
   "metadata": {},
   "source": [
    "## Task 2: direct test"
   ]
  },
  {
   "cell_type": "code",
   "execution_count": null,
   "id": "d51db90c-1c7f-4c20-a6af-4a923f059689",
   "metadata": {},
   "outputs": [],
   "source": [
    "import gym\n",
    "import time\n",
    "\n",
    "# 创建 Gym 环境\n",
    "env = gym.make('CartPole-v1')\n",
    "\n",
    "# 重置环境\n",
    "observation = env.reset()\n",
    "\n",
    "for _ in range(1000):\n",
    "    env.render()  # 渲染环境\n",
    "    # env.render(mode='human')  # 渲染环境并保持窗口打开\n",
    "    action = env.action_space.sample()  # 随机选择一个动作\n",
    "    observation, reward, done, info = env.step(action)  # 执行动作\n",
    "\n",
    "    time.sleep(0.05) # 每帧暂停 0.05 秒，确保画面能显示一段时间\n",
    "    \n",
    "    if done:\n",
    "        break\n",
    "\n",
    "env.close()\n"
   ]
  },
  {
   "cell_type": "markdown",
   "id": "8054df09-7daf-429a-9c87-1773c49fa034",
   "metadata": {},
   "source": [
    "## Task 3: ma-gym test"
   ]
  },
  {
   "cell_type": "code",
   "execution_count": null,
   "id": "6f4fbbb6-4dfa-4130-81ff-61b5824d1730",
   "metadata": {
    "scrolled": true
   },
   "outputs": [],
   "source": [
    "import gym\n",
    "import ma_gym\n",
    "\n",
    "env = gym.make('ma_gym:Switch2-v0')\n",
    "# env = gym.make('ma_gym:Switch2-v0')\n",
    "done_n = [False for _ in range(env.n_agents)]\n",
    "ep_reward = 0\n",
    "\n",
    "obs_n = env.reset()\n",
    "while not all(done_n):\n",
    "    env.render()\n",
    "    obs_n, reward_n, done_n, info = env.step(env.action_space.sample())\n",
    "    ep_reward += sum(reward_n)\n",
    "env.close()"
   ]
  },
  {
   "cell_type": "markdown",
   "id": "ac2cf4cb-9d8e-42bf-9f06-d2c8074a31e7",
   "metadata": {},
   "source": [
    "在运行 ma-gym 环境时，遇到错误 Environment 'Switch2' doesn't exist，说明你尝试使用的环境 (Switch2) 未被正确注册或安装。"
   ]
  },
  {
   "cell_type": "markdown",
   "id": "6540e92d-dead-4297-9860-508979500c3e",
   "metadata": {},
   "source": [
    "输出所有已注册的环境列表。检查其中是否包含 ma_gym:Switch2"
   ]
  },
  {
   "cell_type": "markdown",
   "id": "98a12740-a59f-4c34-8863-d3474a0c295c",
   "metadata": {},
   "source": []
  },
  {
   "cell_type": "markdown",
   "id": "87a96f15-f54c-47c6-b0fd-b00621e323e9",
   "metadata": {},
   "source": [
    "pip install ma-gym"
   ]
  },
  {
   "cell_type": "markdown",
   "id": "93930af6-88d6-4e0a-816c-a2332bdf2fe0",
   "metadata": {},
   "source": []
  },
  {
   "cell_type": "code",
   "execution_count": null,
   "id": "6598565c-6abe-48da-85dc-634eb590270d",
   "metadata": {},
   "outputs": [],
   "source": [
    "### 2. 列出可用环境并验证环境是否存在\n",
    "import gym\n",
    "# import ma_gym\n",
    "print(gym.envs.registry.all())"
   ]
  },
  {
   "cell_type": "code",
   "execution_count": null,
   "id": "6fd94687-96bb-4154-83f1-f690f25f4a61",
   "metadata": {},
   "outputs": [],
   "source": []
  },
  {
   "cell_type": "markdown",
   "id": "c5ba6e9f-947c-4429-aeaf-192fe541099e",
   "metadata": {},
   "source": [
    "## 3. 注册环境"
   ]
  },
  {
   "cell_type": "markdown",
   "id": "2b9c7a56-cbfb-418d-9393-f4f528cedac3",
   "metadata": {},
   "source": [
    "如果 Switch2 环境没有出现在列表中，你可以尝试手动注册环境。运行以下代码来注册该环境："
   ]
  },
  {
   "cell_type": "code",
   "execution_count": null,
   "id": "664df080-fe1c-4c6a-a223-ddf6b5d4d2e5",
   "metadata": {
    "scrolled": true
   },
   "outputs": [],
   "source": [
    "import gym\n",
    "import ma_gym\n",
    "\n",
    "# 手动注册环境\n",
    "gym.envs.registration.register(id='ma-gym:Switch2', entry_point='ma_gym.envs:Switch2Env')\n",
    "\n",
    "# 尝试创建环境\n",
    "env = gym.make('ma-gym:Switch2')\n"
   ]
  },
  {
   "cell_type": "code",
   "execution_count": null,
   "id": "883de307-a8e6-460c-8a11-ba05eb6ef35e",
   "metadata": {},
   "outputs": [],
   "source": [
    "import gym\n",
    "import ma_gym\n",
    "\n",
    "# 手动注册环境\n",
    "gym.envs.registration.register(\n",
    "    id='ma-gym:Switch2', \n",
    "    entry_point='ma_gym.envs:Switch2Env',\n",
    ")\n",
    "\n",
    "# 创建环境\n",
    "env = gym.make('ma-gym:Switch2')\n"
   ]
  },
  {
   "cell_type": "markdown",
   "id": "bed2c871-e5fb-4219-8c6d-781d8ddcc796",
   "metadata": {},
   "source": [
    "## yutest code"
   ]
  },
  {
   "cell_type": "code",
   "execution_count": null,
   "id": "93bd1644-bd0e-4c98-b6c4-f64413b4fd48",
   "metadata": {},
   "outputs": [],
   "source": [
    "import gym\n",
    "import ma_gym \n",
    "\n",
    "env = gym.make('Combat-v0')\n",
    "\n",
    "\n"
   ]
  }
 ],
 "metadata": {
  "kernelspec": {
   "display_name": "Python 3 (ipykernel)",
   "language": "python",
   "name": "python3"
  },
  "language_info": {
   "codemirror_mode": {
    "name": "ipython",
    "version": 3
   },
   "file_extension": ".py",
   "mimetype": "text/x-python",
   "name": "python",
   "nbconvert_exporter": "python",
   "pygments_lexer": "ipython3",
   "version": "3.12.7"
  }
 },
 "nbformat": 4,
 "nbformat_minor": 5
}
