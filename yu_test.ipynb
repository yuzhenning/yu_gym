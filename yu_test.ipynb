{
 "cells": [
  {
   "cell_type": "markdown",
   "id": "e0cdccd0-db4e-4c38-b5f8-61bb0cf9ef6c",
   "metadata": {},
   "source": [
    "# Yu TEST MAIN file"
   ]
  },
  {
   "cell_type": "markdown",
   "id": "6a65a1aa-5e8d-45ef-9307-5e4c12f6ddd8",
   "metadata": {},
   "source": [
    "## indirect test"
   ]
  },
  {
   "cell_type": "markdown",
   "id": "285d39e0-8962-42d9-8133-ffa8029dcd2f",
   "metadata": {
    "scrolled": true
   },
   "source": [
    "run py_test.py"
   ]
  },
  {
   "cell_type": "markdown",
   "id": "57404523-ccde-4aaf-8f97-2c24feb51fd5",
   "metadata": {},
   "source": [
    "## direct test"
   ]
  },
  {
   "cell_type": "markdown",
   "id": "d97ac5f7-4671-4a7a-b28e-3bf0dc2a0315",
   "metadata": {},
   "source": [
    "import gym\n",
    "import time\n",
    "\n",
    "# 创建 Gym 环境\n",
    "env = gym.make('CartPole-v1')\n",
    "\n",
    "# 重置环境\n",
    "observation = env.reset()\n",
    "\n",
    "for _ in range(10000):\n",
    "    env.render()  # 渲染环境\n",
    "    # env.render(mode='human')  # 渲染环境并保持窗口打开\n",
    "    action = env.action_space.sample()  # 随机选择一个动作\n",
    "    observation, reward, done, info = env.step(action)  # 执行动作\n",
    "\n",
    "    time.sleep(0.05) # 每帧暂停 0.05 秒，确保画面能显示一段时间\n",
    "    \n",
    "    if done:\n",
    "        break\n",
    "\n",
    "env.close()\n"
   ]
  },
  {
   "cell_type": "markdown",
   "id": "8054df09-7daf-429a-9c87-1773c49fa034",
   "metadata": {},
   "source": [
    "# ma-gym test"
   ]
  },
  {
   "cell_type": "markdown",
   "id": "f898b306-fe61-48a1-964b-f238796c1911",
   "metadata": {
    "scrolled": true
   },
   "source": [
    "import gym\n",
    "import ma_gym\n",
    "\n",
    "env = gym.make('Switch2-v0')\n",
    "# env = gym.make('ma_gym:Switch2-v0')\n",
    "done_n = [False for _ in range(env.n_agents)]\n",
    "ep_reward = 0\n",
    "\n",
    "obs_n = env.reset()\n",
    "while not all(done_n):\n",
    "    env.render()\n",
    "    obs_n, reward_n, done_n, info = env.step(env.action_space.sample())\n",
    "    ep_reward += sum(reward_n)\n",
    "env.close()"
   ]
  },
  {
   "cell_type": "markdown",
   "id": "ac2cf4cb-9d8e-42bf-9f06-d2c8074a31e7",
   "metadata": {},
   "source": [
    "在运行 ma-gym 环境时，遇到错误 Environment 'Switch2' doesn't exist，说明你尝试使用的环境 (Switch2) 未被正确注册或安装。"
   ]
  },
  {
   "cell_type": "markdown",
   "id": "6540e92d-dead-4297-9860-508979500c3e",
   "metadata": {},
   "source": [
    "##  输出所有已注册的环境列表。检查其中是否包含 ma_gym:Switch2"
   ]
  },
  {
   "cell_type": "markdown",
   "id": "98a12740-a59f-4c34-8863-d3474a0c295c",
   "metadata": {},
   "source": [
    "### 1. 确保 ma-gym 安装正确"
   ]
  },
  {
   "cell_type": "markdown",
   "id": "87a96f15-f54c-47c6-b0fd-b00621e323e9",
   "metadata": {},
   "source": [
    "pip install ma-gym"
   ]
  },
  {
   "cell_type": "markdown",
   "id": "93930af6-88d6-4e0a-816c-a2332bdf2fe0",
   "metadata": {},
   "source": [
    "### 2. 列出可用环境并验证环境是否存在"
   ]
  },
  {
   "cell_type": "code",
   "execution_count": 1,
   "id": "6598565c-6abe-48da-85dc-634eb590270d",
   "metadata": {},
   "outputs": [
    {
     "name": "stdout",
     "output_type": "stream",
     "text": [
      "ValuesView(├──CartPole: [ v0, v1 ]\n",
      "├──MountainCar: [ v0 ]\n",
      "├──MountainCarContinuous: [ v0 ]\n",
      "├──Pendulum: [ v1 ]\n",
      "├──Acrobot: [ v1 ]\n",
      "├──LunarLander: [ v2 ]\n",
      "├──LunarLanderContinuous: [ v2 ]\n",
      "├──BipedalWalker: [ v3 ]\n",
      "├──BipedalWalkerHardcore: [ v3 ]\n",
      "├──CarRacing: [ v1 ]\n",
      "├──Blackjack: [ v1 ]\n",
      "├──FrozenLake: [ v1 ]\n",
      "├──FrozenLake8x8: [ v1 ]\n",
      "├──CliffWalking: [ v0 ]\n",
      "├──Taxi: [ v3 ]\n",
      "├──Reacher: [ v2 ]\n",
      "├──Pusher: [ v2 ]\n",
      "├──InvertedPendulum: [ v2 ]\n",
      "├──InvertedDoublePendulum: [ v2 ]\n",
      "├──HalfCheetah: [ v2, v3 ]\n",
      "├──Hopper: [ v2, v3 ]\n",
      "├──Swimmer: [ v2, v3 ]\n",
      "├──Walker2d: [ v2, v3 ]\n",
      "├──Ant: [ v2, v3 ]\n",
      "├──Humanoid: [ v2, v3 ]\n",
      "└──HumanoidStandup: [ v2 ]\n",
      ")\n"
     ]
    }
   ],
   "source": [
    "import gym\n",
    "print(gym.envs.registry.all())"
   ]
  },
  {
   "cell_type": "markdown",
   "id": "c5ba6e9f-947c-4429-aeaf-192fe541099e",
   "metadata": {},
   "source": [
    "## 3. 注册环境"
   ]
  },
  {
   "cell_type": "markdown",
   "id": "2b9c7a56-cbfb-418d-9393-f4f528cedac3",
   "metadata": {},
   "source": [
    "如果 Switch2 环境没有出现在列表中，你可以尝试手动注册环境。运行以下代码来注册该环境："
   ]
  },
  {
   "cell_type": "code",
   "execution_count": 2,
   "id": "664df080-fe1c-4c6a-a223-ddf6b5d4d2e5",
   "metadata": {
    "scrolled": true
   },
   "outputs": [
    {
     "ename": "AttributeError",
     "evalue": "'EnvSpec' object has no attribute '_kwargs'",
     "output_type": "error",
     "traceback": [
      "\u001b[0;31m---------------------------------------------------------------------------\u001b[0m",
      "\u001b[0;31mAttributeError\u001b[0m                            Traceback (most recent call last)",
      "Cell \u001b[0;32mIn[2], line 2\u001b[0m\n\u001b[1;32m      1\u001b[0m \u001b[38;5;28;01mimport\u001b[39;00m \u001b[38;5;21;01mgym\u001b[39;00m\n\u001b[0;32m----> 2\u001b[0m \u001b[38;5;28;01mimport\u001b[39;00m \u001b[38;5;21;01mma_gym\u001b[39;00m\n\u001b[1;32m      4\u001b[0m \u001b[38;5;66;03m# 手动注册环境\u001b[39;00m\n\u001b[1;32m      5\u001b[0m gym\u001b[38;5;241m.\u001b[39menvs\u001b[38;5;241m.\u001b[39mregistration\u001b[38;5;241m.\u001b[39mregister(\u001b[38;5;28mid\u001b[39m\u001b[38;5;241m=\u001b[39m\u001b[38;5;124m'\u001b[39m\u001b[38;5;124mma-gym:Switch2\u001b[39m\u001b[38;5;124m'\u001b[39m, entry_point\u001b[38;5;241m=\u001b[39m\u001b[38;5;124m'\u001b[39m\u001b[38;5;124mma_gym.envs:Switch2Env\u001b[39m\u001b[38;5;124m'\u001b[39m)\n",
      "File \u001b[0;32m~/DLearning_git/yu_gym/ma_gym/__init__.py:15\u001b[0m\n\u001b[1;32m     10\u001b[0m env_specs \u001b[38;5;241m=\u001b[39m [env_spec \u001b[38;5;28;01mfor\u001b[39;00m env_spec \u001b[38;5;129;01min\u001b[39;00m envs\u001b[38;5;241m.\u001b[39mregistry\u001b[38;5;241m.\u001b[39mall() \u001b[38;5;28;01mif\u001b[39;00m \u001b[38;5;124m'\u001b[39m\u001b[38;5;124mgym.envs\u001b[39m\u001b[38;5;124m'\u001b[39m \u001b[38;5;129;01min\u001b[39;00m env_spec\u001b[38;5;241m.\u001b[39mentry_point]\n\u001b[1;32m     11\u001b[0m \u001b[38;5;28;01mfor\u001b[39;00m spec \u001b[38;5;129;01min\u001b[39;00m env_specs:\n\u001b[1;32m     12\u001b[0m     register(\n\u001b[1;32m     13\u001b[0m         \u001b[38;5;28mid\u001b[39m\u001b[38;5;241m=\u001b[39m\u001b[38;5;124m'\u001b[39m\u001b[38;5;124mma_\u001b[39m\u001b[38;5;124m'\u001b[39m \u001b[38;5;241m+\u001b[39m spec\u001b[38;5;241m.\u001b[39mid,\n\u001b[1;32m     14\u001b[0m         entry_point\u001b[38;5;241m=\u001b[39m\u001b[38;5;124m'\u001b[39m\u001b[38;5;124mma_gym.envs.openai:MultiAgentWrapper\u001b[39m\u001b[38;5;124m'\u001b[39m,\n\u001b[0;32m---> 15\u001b[0m         kwargs\u001b[38;5;241m=\u001b[39m{\u001b[38;5;124m'\u001b[39m\u001b[38;5;124mname\u001b[39m\u001b[38;5;124m'\u001b[39m: spec\u001b[38;5;241m.\u001b[39mid, \u001b[38;5;241m*\u001b[39m\u001b[38;5;241m*\u001b[39m\u001b[43mspec\u001b[49m\u001b[38;5;241;43m.\u001b[39;49m\u001b[43m_kwargs\u001b[49m}\n\u001b[1;32m     16\u001b[0m     )\n\u001b[1;32m     18\u001b[0m \u001b[38;5;66;03m# add new environments : iterate over full observability\u001b[39;00m\n\u001b[1;32m     19\u001b[0m \u001b[38;5;28;01mfor\u001b[39;00m i, observability \u001b[38;5;129;01min\u001b[39;00m \u001b[38;5;28menumerate\u001b[39m([\u001b[38;5;28;01mFalse\u001b[39;00m, \u001b[38;5;28;01mTrue\u001b[39;00m]):\n",
      "\u001b[0;31mAttributeError\u001b[0m: 'EnvSpec' object has no attribute '_kwargs'"
     ]
    }
   ],
   "source": [
    "import gym\n",
    "import ma_gym\n",
    "\n",
    "# 手动注册环境\n",
    "gym.envs.registration.register(id='ma-gym:Switch2', entry_point='ma_gym.envs:Switch2Env')\n",
    "\n",
    "# 尝试创建环境\n",
    "env = gym.make('ma-gym:Switch2')\n"
   ]
  },
  {
   "cell_type": "code",
   "execution_count": 4,
   "id": "883de307-a8e6-460c-8a11-ba05eb6ef35e",
   "metadata": {},
   "outputs": [
    {
     "ename": "AttributeError",
     "evalue": "'EnvSpec' object has no attribute '_kwargs'",
     "output_type": "error",
     "traceback": [
      "\u001b[0;31m---------------------------------------------------------------------------\u001b[0m",
      "\u001b[0;31mAttributeError\u001b[0m                            Traceback (most recent call last)",
      "Cell \u001b[0;32mIn[4], line 2\u001b[0m\n\u001b[1;32m      1\u001b[0m \u001b[38;5;28;01mimport\u001b[39;00m \u001b[38;5;21;01mgym\u001b[39;00m\n\u001b[0;32m----> 2\u001b[0m \u001b[38;5;28;01mimport\u001b[39;00m \u001b[38;5;21;01mma_gym\u001b[39;00m\n\u001b[1;32m      4\u001b[0m \u001b[38;5;66;03m# 手动注册环境\u001b[39;00m\n\u001b[1;32m      5\u001b[0m gym\u001b[38;5;241m.\u001b[39menvs\u001b[38;5;241m.\u001b[39mregistration\u001b[38;5;241m.\u001b[39mregister(\n\u001b[1;32m      6\u001b[0m     \u001b[38;5;28mid\u001b[39m\u001b[38;5;241m=\u001b[39m\u001b[38;5;124m'\u001b[39m\u001b[38;5;124mma-gym:Switch2\u001b[39m\u001b[38;5;124m'\u001b[39m, \n\u001b[1;32m      7\u001b[0m     entry_point\u001b[38;5;241m=\u001b[39m\u001b[38;5;124m'\u001b[39m\u001b[38;5;124mma_gym.envs:Switch2Env\u001b[39m\u001b[38;5;124m'\u001b[39m,\n\u001b[1;32m      8\u001b[0m )\n",
      "File \u001b[0;32m~/DLearning_git/yu_gym/ma_gym/__init__.py:15\u001b[0m\n\u001b[1;32m     10\u001b[0m env_specs \u001b[38;5;241m=\u001b[39m [env_spec \u001b[38;5;28;01mfor\u001b[39;00m env_spec \u001b[38;5;129;01min\u001b[39;00m envs\u001b[38;5;241m.\u001b[39mregistry\u001b[38;5;241m.\u001b[39mall() \u001b[38;5;28;01mif\u001b[39;00m \u001b[38;5;124m'\u001b[39m\u001b[38;5;124mgym.envs\u001b[39m\u001b[38;5;124m'\u001b[39m \u001b[38;5;129;01min\u001b[39;00m env_spec\u001b[38;5;241m.\u001b[39mentry_point]\n\u001b[1;32m     11\u001b[0m \u001b[38;5;28;01mfor\u001b[39;00m spec \u001b[38;5;129;01min\u001b[39;00m env_specs:\n\u001b[1;32m     12\u001b[0m     register(\n\u001b[1;32m     13\u001b[0m         \u001b[38;5;28mid\u001b[39m\u001b[38;5;241m=\u001b[39m\u001b[38;5;124m'\u001b[39m\u001b[38;5;124mma_\u001b[39m\u001b[38;5;124m'\u001b[39m \u001b[38;5;241m+\u001b[39m spec\u001b[38;5;241m.\u001b[39mid,\n\u001b[1;32m     14\u001b[0m         entry_point\u001b[38;5;241m=\u001b[39m\u001b[38;5;124m'\u001b[39m\u001b[38;5;124mma_gym.envs.openai:MultiAgentWrapper\u001b[39m\u001b[38;5;124m'\u001b[39m,\n\u001b[0;32m---> 15\u001b[0m         kwargs\u001b[38;5;241m=\u001b[39m{\u001b[38;5;124m'\u001b[39m\u001b[38;5;124mname\u001b[39m\u001b[38;5;124m'\u001b[39m: spec\u001b[38;5;241m.\u001b[39mid, \u001b[38;5;241m*\u001b[39m\u001b[38;5;241m*\u001b[39m\u001b[43mspec\u001b[49m\u001b[38;5;241;43m.\u001b[39;49m\u001b[43m_kwargs\u001b[49m}\n\u001b[1;32m     16\u001b[0m     )\n\u001b[1;32m     18\u001b[0m \u001b[38;5;66;03m# add new environments : iterate over full observability\u001b[39;00m\n\u001b[1;32m     19\u001b[0m \u001b[38;5;28;01mfor\u001b[39;00m i, observability \u001b[38;5;129;01min\u001b[39;00m \u001b[38;5;28menumerate\u001b[39m([\u001b[38;5;28;01mFalse\u001b[39;00m, \u001b[38;5;28;01mTrue\u001b[39;00m]):\n",
      "\u001b[0;31mAttributeError\u001b[0m: 'EnvSpec' object has no attribute '_kwargs'"
     ]
    }
   ],
   "source": [
    "import gym\n",
    "import ma_gym\n",
    "\n",
    "# 手动注册环境\n",
    "gym.envs.registration.register(\n",
    "    id='ma-gym:Switch2', \n",
    "    entry_point='ma_gym.envs:Switch2Env',\n",
    ")\n",
    "\n",
    "# 创建环境\n",
    "env = gym.make('ma-gym:Switch2')\n"
   ]
  },
  {
   "cell_type": "code",
   "execution_count": null,
   "id": "725a0ad9-e45f-4d00-b9b7-35f474ab9084",
   "metadata": {},
   "outputs": [],
   "source": []
  }
 ],
 "metadata": {
  "kernelspec": {
   "display_name": "Python 3 (ipykernel)",
   "language": "python",
   "name": "python3"
  },
  "language_info": {
   "codemirror_mode": {
    "name": "ipython",
    "version": 3
   },
   "file_extension": ".py",
   "mimetype": "text/x-python",
   "name": "python",
   "nbconvert_exporter": "python",
   "pygments_lexer": "ipython3",
   "version": "3.8.10"
  }
 },
 "nbformat": 4,
 "nbformat_minor": 5
}
